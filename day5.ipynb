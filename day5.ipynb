{
 "cells": [
  {
   "cell_type": "code",
   "execution_count": 1,
   "metadata": {},
   "outputs": [
    {
     "name": "stdout",
     "output_type": "stream",
     "text": [
      "3\n"
     ]
    }
   ],
   "source": [
    "# 피보나치 함수 소스코드\n",
    "def fibo(x):\n",
    "    if x == 1 or x == 2:\n",
    "        return 1\n",
    "    return fibo(x-1)+fibo(x-2)\n",
    "\n",
    "print(fibo(4))"
   ]
  },
  {
   "cell_type": "code",
   "execution_count": 3,
   "metadata": {},
   "outputs": [
    {
     "name": "stdout",
     "output_type": "stream",
     "text": [
      "f(6) f(5) f(4) f(3) f(2) f(1) f(2) f(3) f(4) 8\n"
     ]
    }
   ],
   "source": [
    "# 피보나치 수열 소스코드 (메모이제이션 기법, 탑다운 기법)\n",
    "\n",
    "d = [0] * 100\n",
    "\n",
    "def fibo(x):\n",
    "    print('f(' + str(x) +')', end = ' ')\n",
    "    if x == 1 or x == 2:\n",
    "        return 1\n",
    "    if d[x] != 0:\n",
    "        return d[x]\n",
    "    d[x] = fibo(x-1) + fibo(x-2)\n",
    "    return d[x]\n",
    "\n",
    "print(fibo(6))"
   ]
  },
  {
   "cell_type": "code",
   "execution_count": 5,
   "metadata": {},
   "outputs": [
    {
     "name": "stdout",
     "output_type": "stream",
     "text": [
      "218922995834555169026\n"
     ]
    }
   ],
   "source": [
    "# 피보나치 수열 소스코드 (Bottom up 기법)\n",
    "\n",
    "d = [0] * 100\n",
    "\n",
    "d[1] = 1\n",
    "d[2] = 1\n",
    "n = 99\n",
    "\n",
    "for i in range(3, n+1) :\n",
    "    d[i] = d[i-1] + d[i-2]\n",
    "    \n",
    "print(d[n])"
   ]
  },
  {
   "cell_type": "code",
   "execution_count": 16,
   "metadata": {},
   "outputs": [
    {
     "name": "stdout",
     "output_type": "stream",
     "text": [
      "29380\n",
      "10\n"
     ]
    }
   ],
   "source": [
    "# Making one(p.217)\n",
    "\n",
    "x = int(input())\n",
    "count = [0] * 30001\n",
    "\n",
    "count[1] = 0\n",
    "count[2] = 1\n",
    "count[3] = 1\n",
    "count[5] = 1\n",
    "\n",
    "for i in range(4, x+1):\n",
    "    result = [99999] * 4\n",
    "    if i % 5 == 0:\n",
    "        result[0] = count[i//5] + 1\n",
    "    if i % 3 == 0 :\n",
    "        result[1] = count[i//3] + 1\n",
    "    if i % 2 == 0 :\n",
    "        result[2] = count[i//2] + 1\n",
    "    result[3] = count[i-1] + 1\n",
    "    count[i] = min(result)\n",
    "\n",
    "print(count[x])"
   ]
  },
  {
   "cell_type": "code",
   "execution_count": 17,
   "metadata": {},
   "outputs": [
    {
     "name": "stdout",
     "output_type": "stream",
     "text": [
      "29380\n",
      "10\n"
     ]
    }
   ],
   "source": [
    "# Making one(p.217) _모범답안\n",
    "x = int(input())\n",
    "d = [0] * 30001\n",
    "\n",
    "for i in range(2, x+1):\n",
    "    d[i] = d[i-1] + 1\n",
    "    if i % 2 == 0 :\n",
    "        d[i] = min(d[i], d[i//2] + 1)\n",
    "    if i % 3 == 0 :\n",
    "        d[i] = min(d[i], d[i//3] + 1)\n",
    "    if i % 5 == 0 :\n",
    "        d[i] = min(d[i], d[i//5] + 1)\n",
    "\n",
    "print(d[x])"
   ]
  },
  {
   "cell_type": "code",
   "execution_count": 26,
   "metadata": {},
   "outputs": [
    {
     "name": "stdout",
     "output_type": "stream",
     "text": [
      "4\n",
      "1 3 1 5\n",
      "8\n"
     ]
    }
   ],
   "source": [
    "# ant warrior (p.220)\n",
    "\n",
    "n = int(input())\n",
    "k = list(map(int, input().split()))\n",
    "\n",
    "d = [0] * 100\n",
    "\n",
    "d[0] = k[0] # 가장 처음에는 첫번째 식량 창고의 값\n",
    "d[1] = max(k[0], k[1]) # 두 번째에는 둘 중 더 큰 것\n",
    "for i in range(2,n):\n",
    "    d[i] = max(d[i-1], d[i-2] + k[i]) # 지금까지 넣은 것들 중 \n",
    "\n",
    "print(d[n-1])"
   ]
  },
  {
   "cell_type": "code",
   "execution_count": 29,
   "metadata": {},
   "outputs": [
    {
     "name": "stdout",
     "output_type": "stream",
     "text": [
      "100\n",
      "380755\n"
     ]
    }
   ],
   "source": [
    "# floor construction_답안\n",
    "\n",
    "n = int(input())\n",
    "d = [0] * 1001\n",
    "\n",
    "d[1] = 1\n",
    "d[2] = 3\n",
    "\n",
    "for i in range(3, n+1):\n",
    "    d[i] = d[i-1] + d[i-2] * 2\n",
    "    \n",
    "print(d[n] % 796796)"
   ]
  },
  {
   "cell_type": "code",
   "execution_count": 41,
   "metadata": {},
   "outputs": [
    {
     "name": "stdout",
     "output_type": "stream",
     "text": [
      "2 15\n",
      "2\n",
      "3\n",
      "5\n"
     ]
    }
   ],
   "source": [
    "# efficient money composition(p.226)\n",
    "\n",
    "n, m = map(int, input().split())\n",
    "currency = [int(input()) for _ in range(n)]\n",
    "\n",
    "d= [1001] * (m+1)\n",
    "for i in range(len(currency)):\n",
    "    d[currency[i]] = 1\n",
    "\n",
    "for i in range(1,m+1):\n",
    "    for j in currency:\n",
    "        d[i] = min(d[i],d[i-j]+1)\n",
    "\n",
    "if d[m] == 10001:\n",
    "    print(-1)\n",
    "else :\n",
    "    print(d[m])"
   ]
  },
  {
   "cell_type": "code",
   "execution_count": null,
   "metadata": {},
   "outputs": [],
   "source": []
  }
 ],
 "metadata": {
  "kernelspec": {
   "display_name": "Python 3",
   "language": "python",
   "name": "python3"
  },
  "language_info": {
   "codemirror_mode": {
    "name": "ipython",
    "version": 3
   },
   "file_extension": ".py",
   "mimetype": "text/x-python",
   "name": "python",
   "nbconvert_exporter": "python",
   "pygments_lexer": "ipython3",
   "version": "3.8.5"
  }
 },
 "nbformat": 4,
 "nbformat_minor": 4
}
