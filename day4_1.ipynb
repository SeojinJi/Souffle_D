{
 "cells": [
  {
   "cell_type": "code",
   "execution_count": 1,
   "metadata": {},
   "outputs": [
    {
     "name": "stdout",
     "output_type": "stream",
     "text": [
      "생성할 원소 개수를 입력한 다음 한 칸 띄고 찾을 문자열을 입력하세요. \n",
      "5 Dongbin\n",
      "앞서 적은 원소 개수만큼 자열을 입력하세요. 구분은 띄어쓰기 한 칸으로 합니다.\n",
      "Hanul Jonggu Dongbin Taeil Sangwook\n",
      "3\n"
     ]
    }
   ],
   "source": [
    "# 순차 탐색 소스 코드 구현\n",
    "def sequential_search(n, target, array):\n",
    "    for i in range(n):\n",
    "        if array[i] == target :\n",
    "            return i+1 # 현재의 위치 반환\n",
    "        \n",
    "print(\"생성할 원소 개수를 입력한 다음 한 칸 띄고 찾을 문자열을 입력하세요. \")\n",
    "input_data = input().split()\n",
    "n = int(input_data[0])\n",
    "target = input_data[1]\n",
    "\n",
    "print(\"앞서 적은 원소 개수만큼 자열을 입력하세요. 구분은 띄어쓰기 한 칸으로 합니다.\")\n",
    "array = input().split()\n",
    "\n",
    "print(sequential_search(n, target, array))"
   ]
  },
  {
   "cell_type": "code",
   "execution_count": 2,
   "metadata": {},
   "outputs": [
    {
     "name": "stdout",
     "output_type": "stream",
     "text": [
      "10 7\n",
      "1 3 5 7 9 11 13 15 17 19\n",
      "4\n"
     ]
    }
   ],
   "source": [
    "# 재귀 함수로 구현한 이진 탐색 소스 코드\n",
    "def binary_search(array, target, start, end):\n",
    "    if start > end :\n",
    "        return None\n",
    "    mid = (start+end) // 2\n",
    "    if array[mid] == target :\n",
    "        return mid\n",
    "    elif array[mid] > target :\n",
    "        return binary_search(array, target, start, mid-1)\n",
    "    else :\n",
    "        return binary_search(array, target, mid+1, end)\n",
    "    \n",
    "n, target = list(map(int, input().split()))\n",
    "array = list(map(int, input().split()))\n",
    "\n",
    "result = binary_search(array, target, 0, n-1)\n",
    "if result == None:\n",
    "    print(\"원소가 존재하지 않습니다.\")\n",
    "else :\n",
    "    print(result+1)"
   ]
  },
  {
   "cell_type": "code",
   "execution_count": 3,
   "metadata": {},
   "outputs": [
    {
     "name": "stdout",
     "output_type": "stream",
     "text": [
      "10 7\n",
      "1 3 5 6 9 11 13 15 17 19\n",
      "원소가 존재하지 않습니다.\n"
     ]
    }
   ],
   "source": [
    "# 반복문으로 구현한 이진 탐색 소스 코드\n",
    "def binary_search(array, target, start, end):\n",
    "    while start <= end:\n",
    "        mid = (start+end)//2\n",
    "        if array[mid] == target:\n",
    "            return mid\n",
    "        elif array[mid] > target:\n",
    "            end = mid - 1\n",
    "        else :\n",
    "            start = mid + 1\n",
    "    return None\n",
    "\n",
    "n, target = list(map(int, input().split()))\n",
    "array = list(map(int, input().split()))\n",
    "\n",
    "result = binary_search(array, target, 0, n-1)\n",
    "if result == None:\n",
    "    print(\"원소가 존재하지 않습니다.\")\n",
    "else :\n",
    "    print(result+1)"
   ]
  },
  {
   "cell_type": "code",
   "execution_count": 5,
   "metadata": {},
   "outputs": [
    {
     "name": "stdout",
     "output_type": "stream",
     "text": [
      "\n"
     ]
    }
   ],
   "source": [
    "# 입력데이터 수가 많은 경우 적는 방법\n",
    "import sys\n",
    "\n",
    "input_data = sys.stdin.readline().rstrip()\n",
    "print(input_data)"
   ]
  },
  {
   "cell_type": "code",
   "execution_count": 7,
   "metadata": {},
   "outputs": [
    {
     "name": "stdout",
     "output_type": "stream",
     "text": [
      "5\n",
      "8 3 7 9 2\n",
      "3\n",
      "5 7 9\n",
      "no yes yes "
     ]
    }
   ],
   "source": [
    "# Finding component (p.197)\n",
    "\n",
    "n = int(input())\n",
    "narray = list(map(int, input().split()))\n",
    "m = int(input())\n",
    "marray = list(map(int, input().split()))\n",
    "\n",
    "result = False \n",
    "\n",
    "for i in range(m):\n",
    "    for j in range(n):\n",
    "        if marray[i] == narray[j]:\n",
    "            result = True\n",
    "    if result == True :\n",
    "        print(\"yes\", end = \" \")\n",
    "    else :\n",
    "        print(\"no\", end = \" \")"
   ]
  },
  {
   "cell_type": "code",
   "execution_count": 9,
   "metadata": {},
   "outputs": [
    {
     "name": "stdout",
     "output_type": "stream",
     "text": [
      "5\n",
      "8 3 7 92\n",
      "3\n",
      "5 7 9\n",
      "no yes no "
     ]
    }
   ],
   "source": [
    "# Finding Component (p.197) _ binary search 이용\n",
    "\n",
    "n = int(input())\n",
    "narray = list(map(int, input().split()))\n",
    "m = int(input())\n",
    "marray = list(map(int, input().split()))\n",
    "\n",
    "narray.sort()\n",
    "\n",
    "def binary_search(array, target, start, end):\n",
    "    if start > end:\n",
    "        return None\n",
    "    mid = (start + end) // 2\n",
    "    if array[mid] == target :\n",
    "        return True\n",
    "    elif array[mid] > target :\n",
    "        return binary_search(array, target, start, mid-1)\n",
    "    else :\n",
    "        return binary_search(array, target, mid+1, end)\n",
    "    \n",
    "for i in range(m):\n",
    "    result = binary_search(narray, marray[i], 0, n-1)\n",
    "    if result == None:\n",
    "        print(\"no\", end = \" \")\n",
    "    else :\n",
    "        print(\"yes\", end = \" \")"
   ]
  },
  {
   "cell_type": "code",
   "execution_count": 12,
   "metadata": {},
   "outputs": [
    {
     "name": "stdout",
     "output_type": "stream",
     "text": [
      "5\n",
      "8 3 7 9 2\n",
      "3\n",
      "5 7 9\n",
      "no yes yes "
     ]
    }
   ],
   "source": [
    "# Finding Component (p.197) _ counting sort 이용\n",
    "\n",
    "n = int(input())\n",
    "narray = list(map(int, input().split()))\n",
    "m = int(input())\n",
    "marray = list(map(int, input().split()))\n",
    "\n",
    "search = [0] * 100001\n",
    "\n",
    "for i in range(n):\n",
    "    search[narray[i]] = 1\n",
    "    \n",
    "for j in marray:\n",
    "    if search[j] == 1 :\n",
    "        print(\"yes\", end = \" \")\n",
    "    else :\n",
    "        print(\"no\", end = \" \")"
   ]
  },
  {
   "cell_type": "code",
   "execution_count": 13,
   "metadata": {},
   "outputs": [
    {
     "name": "stdout",
     "output_type": "stream",
     "text": [
      "5\n",
      "8 3 7 9 2\n",
      "3\n",
      "5 7 9\n",
      "no yes yes "
     ]
    }
   ],
   "source": [
    "# Finding Component (p.197) _ 집합 자료형 이용\n",
    "n = int(input())\n",
    "narray = set(map(int,input().split())) # set() : 집합 자료형을 초기화할 때 사용\n",
    "\n",
    "m = int(input())\n",
    "marray = list(map(int, input().split()))\n",
    "\n",
    "for i in marray :\n",
    "    if i in narray :\n",
    "        print(\"yes\", end = \" \")\n",
    "    else :\n",
    "        print(\"no\", end = \" \")"
   ]
  },
  {
   "cell_type": "code",
   "execution_count": 15,
   "metadata": {},
   "outputs": [
    {
     "name": "stdout",
     "output_type": "stream",
     "text": [
      "10 1000\n",
      "1379 123204 1349132 138251\n",
      "1348132\n"
     ]
    }
   ],
   "source": [
    "# 떡볶이 떡 만들기(p.203) _ 순차 탐색이므로 시간 초과\n",
    "\n",
    "n,m = map(int, input().split())\n",
    "height = list(map(int, input().split()))\n",
    "\n",
    "height.sort(reverse = True)\n",
    "\n",
    "result = max(height) - 1\n",
    "count = 0\n",
    "\n",
    "for i in range(result,0,-1):\n",
    "    for h in height :\n",
    "        if h > i :\n",
    "            count += 1\n",
    "    if count == m :\n",
    "        break\n",
    "        \n",
    "print(i)"
   ]
  },
  {
   "cell_type": "code",
   "execution_count": 20,
   "metadata": {},
   "outputs": [
    {
     "name": "stdout",
     "output_type": "stream",
     "text": [
      "4 6\n",
      "19 15 10 17\n",
      "15\n"
     ]
    }
   ],
   "source": [
    "# 떡볶이 떡 만들기 _ binary search 이용\n",
    "\n",
    "n,m = map(int, input().split())\n",
    "height = list(map(int, input().split()))\n",
    "\n",
    "def binary_search(array, target, start, end):\n",
    "    if start > end :\n",
    "        return None\n",
    "    result = (start + end) // 2\n",
    "    total = 0\n",
    "    for i in array :\n",
    "        if i > result :  # 떡 길이가 내가 정한 길이보다 길어야 자를 수 있다\n",
    "            total += (i - result)\n",
    "    if total == target :\n",
    "        return result\n",
    "    elif total > target :\n",
    "        return binary_search(array, target, result + 1, end)\n",
    "    else :\n",
    "        return binary_search(array, target, start, result-1)\n",
    "    \n",
    "result = binary_search(height, m, 0, max(height))\n",
    "print(result)"
   ]
  },
  {
   "cell_type": "code",
   "execution_count": null,
   "metadata": {},
   "outputs": [],
   "source": []
  }
 ],
 "metadata": {
  "kernelspec": {
   "display_name": "Python 3",
   "language": "python",
   "name": "python3"
  },
  "language_info": {
   "codemirror_mode": {
    "name": "ipython",
    "version": 3
   },
   "file_extension": ".py",
   "mimetype": "text/x-python",
   "name": "python",
   "nbconvert_exporter": "python",
   "pygments_lexer": "ipython3",
   "version": "3.8.5"
  }
 },
 "nbformat": 4,
 "nbformat_minor": 4
}
