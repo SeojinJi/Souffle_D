{
 "cells": [
  {
   "cell_type": "code",
   "execution_count": 2,
   "metadata": {},
   "outputs": [
    {
     "name": "stdout",
     "output_type": "stream",
     "text": [
      "6 4\n",
      "1 4 \n",
      "2 3\n",
      "2 4 \n",
      "5 6\n",
      "각 원소가 속한 집합 : 1 1 1 1 5 5 \n",
      "부모 테이블 : 1 1 1 1 5 5 "
     ]
    }
   ],
   "source": [
    "# 서로소 집합 알고리즘\n",
    "\n",
    "def find_parent(parent, x): # 특정 원소가 속한 집합 찾기\n",
    "    if parent[x] != x:\n",
    "        parent[x] = find_parent(parent, parent[x])\n",
    "    return parent[x]\n",
    "\n",
    "def union_parent(parent,a,b): # 두 원소가 속한 집합 합치기\n",
    "    a = find_parent(parent, a)\n",
    "    b = find_parent(parent, b)\n",
    "    if a < b:\n",
    "        parent[b] = a\n",
    "    else :\n",
    "        parent[a] = b\n",
    "        \n",
    "v, e = map(int, input().split())\n",
    "parent = [0] * (v+1) # 부모 테이블 초기화\n",
    "\n",
    "for i in range(1, v+1):\n",
    "    parent[i] = i # 자기 자신으로 초기화\n",
    "    \n",
    "for i in range(e): # 간선 연결하기\n",
    "    a, b = map(int, input().split())\n",
    "    union_parent(parent, a, b) # 간선 연결한 것끼리 집합 합쳐주기\n",
    "    \n",
    "print('각 원소가 속한 집합 : ', end = '')\n",
    "for i in range(1, v+1):\n",
    "    print(find_parent(parent, i), end = ' ')\n",
    "print()\n",
    "\n",
    "print('부모 테이블 : ', end = '')\n",
    "for i in range(1, v+1):\n",
    "    print(parent[i], end = ' ')"
   ]
  },
  {
   "cell_type": "code",
   "execution_count": null,
   "metadata": {},
   "outputs": [],
   "source": []
  }
 ],
 "metadata": {
  "kernelspec": {
   "display_name": "Python 3",
   "language": "python",
   "name": "python3"
  },
  "language_info": {
   "codemirror_mode": {
    "name": "ipython",
    "version": 3
   },
   "file_extension": ".py",
   "mimetype": "text/x-python",
   "name": "python",
   "nbconvert_exporter": "python",
   "pygments_lexer": "ipython3",
   "version": "3.8.5"
  }
 },
 "nbformat": 4,
 "nbformat_minor": 4
}
