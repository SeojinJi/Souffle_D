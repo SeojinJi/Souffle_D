{
 "cells": [
  {
   "cell_type": "code",
   "execution_count": 1,
   "metadata": {},
   "outputs": [
    {
     "name": "stdout",
     "output_type": "stream",
     "text": [
      "216\n",
      "198\n"
     ]
    }
   ],
   "source": [
    "# 해당 숫자 + 해당 숫자의 자리 별 숫자 = 생성자\n",
    "# 35라고 한다면, 35 + 3 + 5  = 43 이 생성자가 된다\n",
    "# 해당 생성자를 가진 해당 숫자 중 가장 작은 수를 찾으시오\n",
    "\n",
    "n = int(input())\n",
    "a = n\n",
    "count = 1 # 자리수\n",
    "for i in range(8) : # 몇 자리인지 파악\n",
    "    if a // 10 != 0 :\n",
    "        a = a // 10\n",
    "        count += 1\n",
    "    else :\n",
    "        break \n",
    "\n",
    "number = [0] * count # 자리 별 숫자 넣으려는 리스트\n",
    "for i in range(1,n+1): # 1부터 n까지\n",
    "    k = i\n",
    "    for j in range(count):\n",
    "        if k // 10 != 0 : # 남은 숫자가 1의 자리만 남은 게 아니라면\n",
    "            number[j] = k % 10 # 가장 작은 자리의 수를 리스트에 넣기\n",
    "            k = k // 10\n",
    "        else :\n",
    "            number[j] = k % 10\n",
    "            break\n",
    "    if sum(number) + i == n :\n",
    "        print(i)\n",
    "        break\n",
    "\n",
    "if i == n :\n",
    "    print(0)"
   ]
  },
  {
   "cell_type": "code",
   "execution_count": 2,
   "metadata": {},
   "outputs": [
    {
     "name": "stdout",
     "output_type": "stream",
     "text": [
      "216\n",
      "198\n"
     ]
    }
   ],
   "source": [
    "# 간단한 버전\n",
    "\n",
    "n = int(input())\n",
    "for i in range(1, n+1):\n",
    "    k = i\n",
    "    for number in str(i):\n",
    "        k += int(number)\n",
    "    if k == n :\n",
    "        print(i)\n",
    "        break\n",
    "        \n",
    "if i == n :\n",
    "    print(0)"
   ]
  }
 ],
 "metadata": {
  "kernelspec": {
   "display_name": "Python 3",
   "language": "python",
   "name": "python3"
  },
  "language_info": {
   "codemirror_mode": {
    "name": "ipython",
    "version": 3
   },
   "file_extension": ".py",
   "mimetype": "text/x-python",
   "name": "python",
   "nbconvert_exporter": "python",
   "pygments_lexer": "ipython3",
   "version": "3.8.5"
  }
 },
 "nbformat": 4,
 "nbformat_minor": 4
}
