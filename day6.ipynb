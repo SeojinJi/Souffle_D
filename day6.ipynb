{
 "cells": [
  {
   "cell_type": "code",
   "execution_count": 1,
   "metadata": {},
   "outputs": [
    {
     "name": "stdout",
     "output_type": "stream",
     "text": [
      "6 11\n",
      "1\n",
      "1 2 2\n",
      "1 3 5\n",
      "1 4 1\n",
      "2 3 3 \n",
      "2 4 2 \n",
      "3 2 3\n",
      "3 6 5\n",
      "4 3 3 \n",
      "4 5 1\n",
      "5 3 1\n",
      "5 6 2\n",
      "0\n",
      "2\n",
      "3\n",
      "1\n",
      "2\n",
      "4\n"
     ]
    }
   ],
   "source": [
    "INF = int(1e9) # 무한을 의미하는 값으로 10억 설정\n",
    "\n",
    "n,m = map(int, input().split()) # 노드의 개수, 간선의 개수 입력\n",
    "start = int(input()) # 시작 노드 번호 입력\n",
    "graph = [[] for i in range(n+1)] # 각 노드에 연결되어 있는 노드에 대한 정보를 담는 리스트 만들기\n",
    "visited = [False] * (n+1) # 방문한 적 있는지 체크 목적 리스트\n",
    "distance = [INF] * (n+1) # 최단 거리 리스트\n",
    "\n",
    "for _ in range(m):\n",
    "    a,b,c = map(int, input().split()) # a에서 b로 가는데 드는 비용 c\n",
    "    graph[a].append((b,c))\n",
    "\n",
    "def get_smallest_node():\n",
    "    min_value = INF\n",
    "    index = 0 # 최단 거리 노드(인덱스)\n",
    "    for i in range(1, n+1):\n",
    "        if distance[i] < min_value and not visited[i]:\n",
    "            min_value = distance[i]\n",
    "            index = i\n",
    "    return index # 최단 거리 인덱스 반환\n",
    "\n",
    "def dijkstra(start):\n",
    "    distance[start] = 0\n",
    "    visited[start] = True\n",
    "    for j in graph[start]:\n",
    "        distance[j[0]] = j[1] #j[0] = b, 즉 목적지,  j[1] = c  비용\n",
    "    for i in range(n-1):\n",
    "        now = get_smallest_node()\n",
    "        visited[now] = True\n",
    "        for j in graph[now]:\n",
    "            cost = distance[now] + j[1]\n",
    "            if cost < distance[j[0]]:\n",
    "                distance[j[0]] = cost\n",
    "\n",
    "dijkstra(start)\n",
    "\n",
    "for i in range(1,n+1):\n",
    "    if distance[i] == INF :\n",
    "        print(\"INFINITY\")\n",
    "    else :\n",
    "        print(distance[i])"
   ]
  },
  {
   "cell_type": "code",
   "execution_count": 2,
   "metadata": {},
   "outputs": [
    {
     "name": "stdout",
     "output_type": "stream",
     "text": [
      "[0, 1, 2, 3, 4, 5, 6, 7, 8, 9]\n"
     ]
    }
   ],
   "source": [
    "# 힙 자료구조\n",
    "\n",
    "import heapq\n",
    "\n",
    "def heapsort(iterable):\n",
    "    h = []\n",
    "    result = []\n",
    "    for value in iterable:\n",
    "        heapq.heappush(h, value) # 모든 원소를 차례대로 힙에 삽입\n",
    "    for i in range(len(h)):\n",
    "        result.append(heapq.heappop(h)) # 힙에 삽입된 모든 원소를 차례대로 꺼내어 담기\n",
    "    return result\n",
    "\n",
    "result = heapsort([1,3,5,7,9,2,4,6,8,0])\n",
    "print(result)"
   ]
  },
  {
   "cell_type": "code",
   "execution_count": 3,
   "metadata": {},
   "outputs": [
    {
     "name": "stdout",
     "output_type": "stream",
     "text": [
      "[9, 8, 7, 6, 5, 4, 3, 2, 1, 0]\n"
     ]
    }
   ],
   "source": [
    "# 최대 힙 구현하기\n",
    "\n",
    "import heapq\n",
    "\n",
    "def heapsort(iterable):\n",
    "    h = []\n",
    "    result = []\n",
    "    for value in iterable:\n",
    "        heapq.heappush(h, -value)\n",
    "    for i in range(len(h)):\n",
    "        result.append(-heapq.heappop(h))\n",
    "    return result\n",
    "\n",
    "result = heapsort([1,3,5,7,9,2,4,6,8,0])\n",
    "print(result)"
   ]
  },
  {
   "cell_type": "code",
   "execution_count": 4,
   "metadata": {},
   "outputs": [
    {
     "name": "stdout",
     "output_type": "stream",
     "text": [
      "6 1\n",
      "1\n",
      "1 2 2 \n",
      "0\n",
      "2\n",
      "INFINITY\n",
      "INFINITY\n",
      "INFINITY\n",
      "INFINITY\n"
     ]
    }
   ],
   "source": [
    "import heapq\n",
    "INF = int(1e9)\n",
    "\n",
    "n,m = map(int, input().split())\n",
    "start = int(input())\n",
    "graph = [[] for i in range(n+1)] # 각 노드에 연결되어 있는 노드에 대한 정보 담는 리스트\n",
    "distance = [INF] * (n+1) # 최단거리 테이블\n",
    "\n",
    "for _ in range(m):\n",
    "    a,b,c = map(int, input().split())\n",
    "    graph[a].append((b,c))\n",
    "    \n",
    "def dijkstra(start):\n",
    "    q = []\n",
    "    heapq.heappush(q,(0,start))\n",
    "    distance[start] = 0\n",
    "    while q : # 큐가 비어있지 않다면\n",
    "        dist, now = heapq.heappop(q)\n",
    "        if distance[now] < dist : # 이미 처리된 적 있는 노드라면 무시\n",
    "            continue\n",
    "        for i in graph[now]:\n",
    "            cost = dist + i[1]\n",
    "            if cost < distance[i[0]]:\n",
    "                distance[i[0]] = cost\n",
    "                heapq.heappush(q, (cost, i[0]))\n",
    "                \n",
    "dijkstra(start)\n",
    "\n",
    "for i in range(1, n+1):\n",
    "    if distance[i] == INF:\n",
    "        print(\"INFINITY\")\n",
    "    else :\n",
    "        print(distance[i])"
   ]
  },
  {
   "cell_type": "code",
   "execution_count": 1,
   "metadata": {},
   "outputs": [
    {
     "name": "stdout",
     "output_type": "stream",
     "text": [
      "4\n",
      "7\n",
      "1 2 4\n",
      "1 4 6\n",
      "2 1 3\n",
      "2 3 7\n",
      "3 1 5\n",
      "3 4 4 \n",
      "4 3 2\n",
      "0 4 8 6 \n",
      "3 0 7 9 \n",
      "5 9 0 4 \n",
      "7 11 2 0 \n"
     ]
    }
   ],
   "source": [
    "# 플로이드 워셜 알고리즘\n",
    "\n",
    "INF = int(1e9)\n",
    "\n",
    "n = int(input())\n",
    "m = int(input())\n",
    "graph = [[INF] * (n+1) for _ in range(n+1)]\n",
    "\n",
    "for a in range(1, n+1):\n",
    "    for b in range(1, n+1): \n",
    "        if a == b:  # 자기자신에서 자기자신으로 가는 비용은 0\n",
    "            graph[a][b] = 0\n",
    "            \n",
    "for _ in range(m):\n",
    "    a,b,c = map(int, input().split())\n",
    "    graph[a][b] = c # a 에서 b 로 가는데 드는 비용 c\n",
    "    \n",
    "for k in range(1,n+1):\n",
    "    for a in range(1,n+1):\n",
    "        for b in range(1, n+1):\n",
    "            graph[a][b] = min(graph[a][b], graph[a][k]+graph[k][b]) # a에서 b 까지 가는 데에 그냥 가는 것과 k 를 거쳐가는 방법 중 비용 저렴한 것\n",
    "\n",
    "for a in range(1,n+1):\n",
    "    for b in range(1,n+1):\n",
    "        if graph[a][b] == INF:\n",
    "            print(\"INFINITY\", end = ' ')\n",
    "        else :\n",
    "            print(graph[a][b], end = ' ')\n",
    "    print()"
   ]
  },
  {
   "cell_type": "code",
   "execution_count": 4,
   "metadata": {},
   "outputs": [
    {
     "name": "stdout",
     "output_type": "stream",
     "text": [
      "4 2\n",
      "1 3\n",
      "2 4\n",
      "3 4\n",
      "-1\n"
     ]
    }
   ],
   "source": [
    "# future city (p.259) _ dijkstra 알고리즘 활용\n",
    "import heapq\n",
    "\n",
    "n, m = map(int, input().split())\n",
    "graph = [[] for i in range(n+1)]\n",
    "\n",
    "for _ in range(m):\n",
    "    a,b = map(int, input().split())\n",
    "    graph[a].append((b,1))\n",
    "    \n",
    "x, k = map(int, input().split())\n",
    "INF = int(1e9)\n",
    "distance = [INF] * (n+1) \n",
    "def dijkstra(start):\n",
    "    q = []\n",
    "    heapq.heappush(q,(0, start))\n",
    "    distance[start] = 0\n",
    "    while q :\n",
    "        dist, now = heapq.heappop(q)\n",
    "        if distance[now] < dist:\n",
    "            continue\n",
    "        for i in graph[now]:\n",
    "            cost = dist + i[1]\n",
    "            if cost < distance[i[0]] :\n",
    "                distance[i[0]] = cost\n",
    "                heapq.heappush(q,(cost ,i[0]))\n",
    "                \n",
    "dijkstra(1)\n",
    "result1 = distance[k]\n",
    "dijkstra(k)\n",
    "result2 = distance[x]\n",
    "\n",
    "result = result1+result2\n",
    "\n",
    "if result >= int(1e9):\n",
    "    print(-1)\n",
    "else :\n",
    "    print(result)"
   ]
  },
  {
   "cell_type": "code",
   "execution_count": 5,
   "metadata": {},
   "outputs": [
    {
     "name": "stdout",
     "output_type": "stream",
     "text": [
      "4 2\n",
      "1 3\n",
      "2 4\n",
      "3 4\n",
      "-1\n"
     ]
    }
   ],
   "source": [
    "# future city (p.259) _ 플로이드 워셜 알고리즘 활용\n",
    "\n",
    "INF = int(1e9)\n",
    "\n",
    "n, m = map(int, input().split())\n",
    "graph = [[INF] * (n+1) for _ in range(n+1)]\n",
    "\n",
    "for a in range(n+1):\n",
    "    for b in range(n+1):\n",
    "        if a == b :\n",
    "            graph[a][b] = 0\n",
    "\n",
    "for _ in range(m):\n",
    "    a, b = map(int, input().split())\n",
    "    graph[a][b] = 1\n",
    "    graph[b][a] = 1\n",
    "    \n",
    "x, k = map(int, input().split())\n",
    "\n",
    "for c in range(1, n+1):\n",
    "    for a in range(1, n+1):\n",
    "        for b in range(1, n+1):\n",
    "            graph[a][b] = min(graph[a][b], graph[a][c] + graph[c][b])\n",
    "            \n",
    "result = graph[1][k] + graph[k][x]\n",
    "\n",
    "if result >= INF :\n",
    "    print(-1)\n",
    "else :\n",
    "    print(result)"
   ]
  },
  {
   "cell_type": "code",
   "execution_count": 15,
   "metadata": {},
   "outputs": [
    {
     "name": "stdout",
     "output_type": "stream",
     "text": [
      "3 2 1\n",
      "1 2 4\n",
      "1 3 2\n",
      "2 4\n"
     ]
    }
   ],
   "source": [
    "# telegram (p.282)\n",
    "\n",
    "import heapq\n",
    "\n",
    "n,m,c = map(int, input().split())\n",
    "graph = [[] for _ in range(n+1)]\n",
    "INF = int(1e9)\n",
    "distance = [INF] * (n+1) \n",
    "\n",
    "for _ in range(m):\n",
    "    x,y,z = map(int, input().split())\n",
    "    graph[x].append((y,z))\n",
    "    \n",
    "def dijkstra(start):\n",
    "    q = []\n",
    "    heapq.heappush(q,(0, start))\n",
    "    distance[start] = 0\n",
    "    while q:\n",
    "        dist, now = heapq.heappop(q)\n",
    "        if distance[now] < dist :\n",
    "            continue\n",
    "        for i in graph[now]:\n",
    "            cost = dist + i[1]\n",
    "            if cost < distance[i[0]]:\n",
    "                distance[i[0]] = cost\n",
    "                heapq.heappush(q,(cost, i[0]))\n",
    "                \n",
    "dijkstra(c)\n",
    "\n",
    "count = 0\n",
    "time = 0\n",
    "for i in range(1, n+1):\n",
    "    if distance[i] != INF and distance[i] != 0:\n",
    "        count += 1\n",
    "        if time < distance[i] :\n",
    "            time = distance[i]\n",
    "\n",
    "print(count, time)"
   ]
  },
  {
   "cell_type": "code",
   "execution_count": null,
   "metadata": {},
   "outputs": [],
   "source": []
  }
 ],
 "metadata": {
  "kernelspec": {
   "display_name": "Python 3",
   "language": "python",
   "name": "python3"
  },
  "language_info": {
   "codemirror_mode": {
    "name": "ipython",
    "version": 3
   },
   "file_extension": ".py",
   "mimetype": "text/x-python",
   "name": "python",
   "nbconvert_exporter": "python",
   "pygments_lexer": "ipython3",
   "version": "3.8.5"
  }
 },
 "nbformat": 4,
 "nbformat_minor": 4
}
