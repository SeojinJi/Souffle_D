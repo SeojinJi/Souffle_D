{
 "cells": [
  {
   "cell_type": "code",
   "execution_count": 5,
   "metadata": {},
   "outputs": [
    {
     "name": "stdout",
     "output_type": "stream",
     "text": [
      "1 2 3\n",
      "6 2.00\n"
     ]
    }
   ],
   "source": [
    "#6045\n",
    "a, b, c = map(int, input().split())\n",
    "total = a+b+c\n",
    "mean = total/3\n",
    "print(total, format(mean,\".2f\"))\n",
    "# format과 round의 차이점. round는 끝자리가 0이면 출력 안되는 문제가 있기 때문에, 원하는 출력형식을 엄격하게 준수하려면 format을 사용해야한다"
   ]
  },
  {
   "cell_type": "code",
   "execution_count": 7,
   "metadata": {},
   "outputs": [
    {
     "name": "stdout",
     "output_type": "stream",
     "text": [
      "10.0 3.0\n",
      "3.333\n"
     ]
    }
   ],
   "source": [
    "#6043\n",
    "a,b = map(float, input().split())\n",
    "result = a/b\n",
    "print(format(result,\".3f\"))"
   ]
  },
  {
   "cell_type": "code",
   "execution_count": 12,
   "metadata": {},
   "outputs": [
    {
     "name": "stdout",
     "output_type": "stream",
     "text": [
      "print(\"Hello\\nWorld\")\n"
     ]
    }
   ],
   "source": [
    "#6008\n",
    "print(\"print(\\\"Hello\\\\nWorld\\\")\")"
   ]
  },
  {
   "cell_type": "code",
   "execution_count": 14,
   "metadata": {},
   "outputs": [
    {
     "name": "stdout",
     "output_type": "stream",
     "text": [
      "\"C:\\Download\\'hello'.py\"\n"
     ]
    }
   ],
   "source": [
    "#6007\n",
    "print(\"\\\"C:\\\\Download\\\\'hello'.py\\\"\")"
   ]
  },
  {
   "cell_type": "code",
   "execution_count": 32,
   "metadata": {},
   "outputs": [
    {
     "name": "stdout",
     "output_type": "stream",
     "text": [
      "5\n",
      "1 2\n",
      "1 3\n",
      "1 4\n",
      "1 5\n",
      "0 1 1 1 1\n",
      "1 2 3 4 5\n",
      "3\n",
      "2 1\n",
      "1 1\n",
      "2 1\n",
      "1\n",
      "5\n"
     ]
    }
   ],
   "source": [
    "#3275\n",
    "n = int(input())\n",
    "graph = [[] for i in range(n+1)]\n",
    "\n",
    "for _ in range(n-1):\n",
    "    a,b = map(int, input().split())\n",
    "    graph[a].append(b)\n",
    "    \n",
    "color2 = list(map(int, input().split()))\n",
    "color2.append(0)\n",
    "for i in range(n+1):\n",
    "    color[i] = color2[i-1]\n",
    "\n",
    "meaning2 = list(map(int, input().split()))\n",
    "meaning2.append(0)\n",
    "for i in range(n+1):\n",
    "    meaning[i] = meaning2[i-1]  \n",
    "query = int(input())\n",
    "\n",
    "total = []\n",
    "for i in range(query):\n",
    "    q = list(map(int, input().split()))\n",
    "    if q[0] == 1 :\n",
    "        if color[q[1]] == 0:\n",
    "            color[q[1]] = 1\n",
    "        else:\n",
    "            color[q[1]] = 0\n",
    "    elif q[0] == 2:\n",
    "        con = graph[q[1]]\n",
    "        result = meaning[q[1]]\n",
    "        for i in con:\n",
    "            if color[q[1]] == color[i]:\n",
    "                result = max(result, meaning[i])\n",
    "        total.append(result)\n",
    "    elif q[0] == 3:\n",
    "        meaning[q[1]] = meaning[q[2]]\n",
    "        \n",
    "for i in total:\n",
    "    print(i)"
   ]
  },
  {
   "cell_type": "code",
   "execution_count": 27,
   "metadata": {},
   "outputs": [
    {
     "name": "stdout",
     "output_type": "stream",
     "text": [
      "5\n",
      "4\n",
      "3\n",
      "2\n"
     ]
    }
   ],
   "source": [
    "for i in range(5,1,-1):\n",
    "    print(i)"
   ]
  },
  {
   "cell_type": "code",
   "execution_count": null,
   "metadata": {},
   "outputs": [],
   "source": []
  },
  {
   "cell_type": "code",
   "execution_count": null,
   "metadata": {},
   "outputs": [],
   "source": []
  },
  {
   "cell_type": "code",
   "execution_count": null,
   "metadata": {},
   "outputs": [],
   "source": []
  }
 ],
 "metadata": {
  "kernelspec": {
   "display_name": "Python 3",
   "language": "python",
   "name": "python3"
  },
  "language_info": {
   "codemirror_mode": {
    "name": "ipython",
    "version": 3
   },
   "file_extension": ".py",
   "mimetype": "text/x-python",
   "name": "python",
   "nbconvert_exporter": "python",
   "pygments_lexer": "ipython3",
   "version": "3.8.5"
  }
 },
 "nbformat": 4,
 "nbformat_minor": 4
}
