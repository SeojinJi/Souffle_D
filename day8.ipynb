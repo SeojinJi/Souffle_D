{
 "cells": [
  {
   "cell_type": "code",
   "execution_count": 1,
   "metadata": {},
   "outputs": [
    {
     "name": "stdout",
     "output_type": "stream",
     "text": [
      "6 4\n",
      "1 4\n",
      "2 3\n",
      "2 4\n",
      "5 6\n",
      "각 원소가 속한 집합: 1 1 1 1 5 5 \n",
      "부모 테이블 : 1 1 1 1 5 5 "
     ]
    }
   ],
   "source": [
    "# 기본적인 서로소 집합 알고리즘 코드\n",
    "def find_parent(parent, x):\n",
    "    if parent[x] != x:\n",
    "        parent[x] = find_parent(parent,parent[x])\n",
    "    return parent[x]\n",
    "\n",
    "# 두 원소가 속한 집합 합치기\n",
    "def union_parent(parent, a,b):\n",
    "    a = find_parent(parent, a)\n",
    "    b = find_parent(parent, b)\n",
    "    if a < b:\n",
    "        parent[b] = a\n",
    "    else :\n",
    "        parent[a] = b\n",
    "        \n",
    "# 노드의 개수와 간선의 개수 입력받기\n",
    "v,e = map(int, input().split())\n",
    "parent = [0] * (v+1)\n",
    "\n",
    "for i in range(1, v+1):\n",
    "    parent[i] = i # 부모 테이블에서 자기자신으로 초기화\n",
    "    \n",
    "for i in range(e): # union 연산을 간선의 개수만큼 진행\n",
    "    a,b = map(int, input().split())\n",
    "    union_parent(parent, a, b)\n",
    "    \n",
    "print('각 원소가 속한 집합: ', end = '')\n",
    "for i in range(1, v+1):\n",
    "    print(find_parent(parent,i), end = ' ')\n",
    "    \n",
    "print()\n",
    "\n",
    "print('부모 테이블 : ', end = '')\n",
    "for i in range(1, v+1):\n",
    "    print(parent[i], end = ' ')"
   ]
  },
  {
   "cell_type": "code",
   "execution_count": 2,
   "metadata": {},
   "outputs": [
    {
     "name": "stdout",
     "output_type": "stream",
     "text": [
      "3 3\n",
      "1 2\n",
      "1 3\n",
      "2 3\n",
      "사이클이 발생했습니다.\n"
     ]
    }
   ],
   "source": [
    "# 서로소 집합 활용한 사이클 판별 소스코드\n",
    "\n",
    "def find_parent(parent,x):\n",
    "    if parent[x] != x:\n",
    "        parent[x] = find_parent(parent, parent[x])\n",
    "    return parent[x]\n",
    "\n",
    "def union_parent(parent, a, b):\n",
    "    a = find_parent(parent, a)\n",
    "    b = find_parent(parent, b)\n",
    "    if a < b:\n",
    "        parent[b] = a\n",
    "    else :\n",
    "        parent[a] = b\n",
    "    \n",
    "v, e = map(int, input().split())\n",
    "parent = [0] * (v+1)\n",
    "\n",
    "for i in range(1, v+1):\n",
    "    parent[i] = i\n",
    "    \n",
    "cycle = False # 사이클 발생 여부 판별\n",
    "\n",
    "for i in range(e):\n",
    "    a,b = map(int, input().split())\n",
    "    if find_parent(parent, a) == find_parent(parent, b):\n",
    "        cycle = True\n",
    "        break\n",
    "    else :\n",
    "        union_parent(parent, a, b)\n",
    "\n",
    "if cycle :\n",
    "    print(\"사이클이 발생했습니다.\")\n",
    "else :\n",
    "    print(\"사이클이 발생하지 않았습니다.\")"
   ]
  },
  {
   "cell_type": "code",
   "execution_count": 3,
   "metadata": {},
   "outputs": [
    {
     "name": "stdout",
     "output_type": "stream",
     "text": [
      "7 9\n",
      "1 2 29\n",
      "1 5 75\n",
      "2 3 35\n",
      "2 6 34\n",
      "3 4 7\n",
      "4 6 23\n",
      "4 7 13\n",
      "5 6 53\n",
      "6 7 25\n",
      "159\n"
     ]
    }
   ],
   "source": [
    "# 크루스칼 알고리즘 \n",
    "\n",
    "def find_parent(parent, x):\n",
    "    if parent[x] != x:\n",
    "        parent[x] = find_parent(parent, parent[x])\n",
    "    return parent[x]\n",
    "\n",
    "def union_parent(parent, a, b):\n",
    "    a = find_parent(parent, a)\n",
    "    b = find_parent(parent, b)\n",
    "    if a < b:\n",
    "        parent[b] = a\n",
    "    else :\n",
    "        parent[a] = b\n",
    "        \n",
    "v,e = map(int, input().split())\n",
    "parent = [0] * (v+1)\n",
    "\n",
    "# 모든 간선을 담을 리스트와 최종 비용을 담을 변수\n",
    "edges = []\n",
    "result = 0\n",
    "\n",
    "for i in range(1, v+1):\n",
    "    parent[i] = i\n",
    "    \n",
    "for _ in range(e):\n",
    "    a,b, cost = map(int, input().split())\n",
    "    edges.append((cost,a,b))\n",
    "    \n",
    "edges.sort()\n",
    "\n",
    "for edge in edges :\n",
    "    cost, a, b = edge\n",
    "    if find_parent(parent, a) != find_parent(parent, b):\n",
    "        union_parent(parent, a, b)\n",
    "        result += cost\n",
    "        \n",
    "print(result)"
   ]
  },
  {
   "cell_type": "code",
   "execution_count": 4,
   "metadata": {},
   "outputs": [
    {
     "name": "stdout",
     "output_type": "stream",
     "text": [
      "7 8\n",
      "1 2\n",
      "1 5\n",
      "2 3\n",
      "2 6\n",
      "3 4\n",
      "4 7\n",
      "5 6\n",
      "6 4\n",
      "1 2 5 3 6 4 7 "
     ]
    }
   ],
   "source": [
    "# 위상정렬 소스코드_방향성에 거스르지 않도록 정렬\n",
    "\n",
    "from collections import deque\n",
    "\n",
    "v,e = map(int, input().split())\n",
    "indegree = [0] * (v+1)  # 모든 노드에 대한 진입 차수는 0으로 초기화\n",
    "graph = [[] for i in range(v+1)] # 각 노드에 연결된 간선 정보를 담기 위한 연결 리스트 초기화\n",
    "\n",
    "for _ in range(e):\n",
    "    a, b = map(int, input().split())\n",
    "    graph[a].append(b) # 정점 a에서 b로 이동\n",
    "    indegree[b] += 1 # 진입차수 1 증가\n",
    "    \n",
    "def topology_sort():\n",
    "    result = [] \n",
    "    q = deque()\n",
    "    \n",
    "    for i in range(1, v+1):\n",
    "        if indegree[i] == 0:\n",
    "            q.append(i)\n",
    "            \n",
    "    while q: #큐가 빌 때까지 반복\n",
    "        now = q.popleft()\n",
    "        result.append(now)\n",
    "        for i in graph[now]: # 해당 원소와 연결된 노드들의 진입차수에서 1씩 빼기\n",
    "            indegree[i] -= 1\n",
    "            if indegree[i] == 0:\n",
    "                q.append(i)\n",
    "    \n",
    "    for i in result:\n",
    "        print(i, end = ' ')\n",
    "        \n",
    "topology_sort()"
   ]
  },
  {
   "cell_type": "code",
   "execution_count": 6,
   "metadata": {},
   "outputs": [
    {
     "name": "stdout",
     "output_type": "stream",
     "text": [
      "7 8\n",
      "0 1 3\n",
      "1 1 7\n",
      "0 7 6\n",
      "1 7 1\n",
      "0 3 7\n",
      "0 4 2\n",
      "0 1 1\n",
      "1 1 1\n",
      "NO\n",
      "NO\n",
      "YES\n"
     ]
    }
   ],
   "source": [
    "# Making Team (p.298)\n",
    "n, m = map(int, input().split())\n",
    "parent = [0] * (n+1)\n",
    "\n",
    "for i in range(n+1):\n",
    "    parent[i] = i\n",
    "\n",
    "def find_parent(parent, a):\n",
    "    if parent[a] != a :\n",
    "        parent[a] = find_parent(parent, parent[a])\n",
    "    return parent[a]\n",
    "\n",
    "def union_parent(parent, a, b):\n",
    "    a = find_parent(parent,a)\n",
    "    b = find_parent(parent, b)\n",
    "    if a < b:\n",
    "        parent[b] = a\n",
    "    else :\n",
    "        parent[a] = b\n",
    "\n",
    "result = []\n",
    "for _ in range(m):\n",
    "    x, a, b = map(int, input().split())\n",
    "    if x == 0 :\n",
    "        union_parent(parent, a, b)\n",
    "    elif x == 1 :\n",
    "        if find_parent(parent, a) == find_parent(parent, b):\n",
    "            result.append(\"YES\")\n",
    "        else :\n",
    "            result.append(\"NO\")\n",
    "            \n",
    "for i in result:\n",
    "    print(i)"
   ]
  },
  {
   "cell_type": "code",
   "execution_count": 13,
   "metadata": {},
   "outputs": [
    {
     "name": "stdout",
     "output_type": "stream",
     "text": [
      "7 12\n",
      "1 2 3\n",
      "1 3 2\n",
      "3 2 1\n",
      "2 5 2\n",
      "3 4 4 \n",
      "7 3 6\n",
      "5 1 5\n",
      "1 6 2\n",
      "6 4 1\n",
      "6 5 3\n",
      "4 5 3\n",
      "6 7 4\n",
      "8\n"
     ]
    }
   ],
   "source": [
    "# Planning divide city (p.300)\n",
    "n, m = map(int, input().split())\n",
    "parent = [0] * (n+1)\n",
    "\n",
    "for i in range(1, v+1):\n",
    "    parent[i] = i\n",
    "\n",
    "def find_parent(parent, x):\n",
    "    if parent[x] != x:\n",
    "        parent[x] = find_parent(parent, parent[x])\n",
    "    return parent[x]\n",
    "\n",
    "def union_parent(parent, a, b):\n",
    "    a = find_parent(parent, a)\n",
    "    b = find_parent(parent, b)\n",
    "    if a < b:\n",
    "        parent[b] = a\n",
    "    else :\n",
    "        parent[a] = b\n",
    "\n",
    "edges = []\n",
    "result = []\n",
    "\n",
    "for _ in range(m):\n",
    "    a, b, cost = map(int, input().split())\n",
    "    edges.append((cost, a, b))\n",
    "    \n",
    "edges.sort()\n",
    "\n",
    "for edge in edges :\n",
    "    cost, a, b = edge\n",
    "    if find_parent(parent, a) != find_parent(parent, b):\n",
    "        union_parent(parent, a, b)\n",
    "        result.append(cost)\n",
    "\n",
    "total = 0\n",
    "for i in result :\n",
    "    total += i\n",
    "total -= max(result)\n",
    "print(total)"
   ]
  },
  {
   "cell_type": "code",
   "execution_count": 25,
   "metadata": {},
   "outputs": [
    {
     "name": "stdout",
     "output_type": "stream",
     "text": [
      "5\n",
      "10 -1\n",
      "10 1 -1\n",
      "4 1 -1\n",
      "4 3 1 -1\n",
      "3 3 -1\n",
      "10\n",
      "20\n",
      "14\n",
      "18\n",
      "17\n"
     ]
    }
   ],
   "source": [
    "# Curriculum (p.303)\n",
    "from collections import deque\n",
    "import copy\n",
    "\n",
    "n = int(input())\n",
    "indegree = [0] * (n+1)  \n",
    "graph = [[] for i in range(n+1)] \n",
    "cost = [0] * (n+1)\n",
    "\n",
    "for i in range(1,n+1):\n",
    "    a = list(map(int, input().split()))\n",
    "    cost[i]  = a[0]\n",
    "    for x in a[1:-1]:\n",
    "        graph[x].append(i) \n",
    "        indegree[i] += 1\n",
    "    \n",
    "def topology_sort():\n",
    "    result = copy.deepcopy(cost)\n",
    "    q = deque()\n",
    "    \n",
    "    for i in range(1, n+1):\n",
    "        if indegree[i] == 0:\n",
    "            q.append(i)\n",
    "            \n",
    "    while q: #큐가 빌 때까지 반복\n",
    "        now = q.popleft()\n",
    "        for i in graph[now]: # 해당 원소와 연결된 노드들의 진입차수에서 1씩 빼기\n",
    "            result[i] = max(result[i], result[now] + cost[i])\n",
    "            indegree[i] -= 1\n",
    "            if indegree[i] == 0:\n",
    "                q.append(i)\n",
    "    \n",
    "    for i in range(1,n+1):\n",
    "        print(result[i])\n",
    "        \n",
    "topology_sort()"
   ]
  },
  {
   "cell_type": "code",
   "execution_count": 16,
   "metadata": {},
   "outputs": [
    {
     "data": {
      "text/plain": [
       "[]"
      ]
     },
     "execution_count": 16,
     "metadata": {},
     "output_type": "execute_result"
    }
   ],
   "source": [
    "a = [1,5]\n",
    "a[1:-1]"
   ]
  },
  {
   "cell_type": "code",
   "execution_count": null,
   "metadata": {},
   "outputs": [],
   "source": []
  }
 ],
 "metadata": {
  "kernelspec": {
   "display_name": "Python 3",
   "language": "python",
   "name": "python3"
  },
  "language_info": {
   "codemirror_mode": {
    "name": "ipython",
    "version": 3
   },
   "file_extension": ".py",
   "mimetype": "text/x-python",
   "name": "python",
   "nbconvert_exporter": "python",
   "pygments_lexer": "ipython3",
   "version": "3.8.5"
  }
 },
 "nbformat": 4,
 "nbformat_minor": 4
}
